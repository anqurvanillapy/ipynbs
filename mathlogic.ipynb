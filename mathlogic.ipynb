{
 "cells": [
  {
   "cell_type": "markdown",
   "metadata": {},
   "source": [
    "# Mathematical Logic Cheatsheet\n",
    "\n",
    "数理逻辑 (mathematical logic) 的 cheatsheet.\n",
    "\n",
    "## 命题逻辑的基本概念\n",
    "\n",
    "### 定义 1.1\n",
    "\n",
    "设 $p$ 为命题, 复合命题 \"非 $p$\" (或 \"$p$ 的否定\") 成为 $p$ 的 *否定式*,\n",
    "记作 $\\neg p$, 符号 $\\neg$ 称作 *否定联结词*.  规定 $\\neg p$\n",
    "为真当且仅当 $p$ 为假.\n",
    "\n",
    "### 定义 1.2\n",
    "\n",
    "设 $p$, $q$ 为两个命题, 复合命题 \"$p$ 并且 $q$\" (或 \"$p$ 与 $q$\") 称为\n",
    "$p$ 与 $q$ 的 *合取式*, 记作 $p \\land q$.  $\\land$ 称作 *合取联结词*.\n",
    "规定 $p \\land q$ 为真当且仅当 $p$ 与 $q$ 同时为真.\n",
    "\n",
    "### 定义 1.3\n",
    "\n",
    "设 $p$, $q$ 为两个命题, 复合命题 \"$p$ 或 $q$\" 称为 $p$ 与 $q$ 的\n",
    "*析取式*, 记作 $p \\lor q$.  $\\land$ 称作 *析取联结词*.  规定 $p \\lor q$\n",
    "为假当且仅当 $p$ 与 $q$ 同时为假."
   ]
  }
 ],
 "metadata": {
  "kernelspec": {
   "display_name": "Python 3",
   "language": "python",
   "name": "python3"
  },
  "language_info": {
   "codemirror_mode": {
    "name": "ipython",
    "version": 3
   },
   "file_extension": ".py",
   "mimetype": "text/x-python",
   "name": "python",
   "nbconvert_exporter": "python",
   "pygments_lexer": "ipython3",
   "version": "3.6.3"
  }
 },
 "nbformat": 4,
 "nbformat_minor": 2
}
